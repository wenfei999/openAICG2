{
 "cells": [
  {
   "cell_type": "code",
   "execution_count": 1,
   "id": "786620cd-051a-4d2f-8366-64ee7cd7cc2d",
   "metadata": {},
   "outputs": [],
   "source": [
    "import openmm as mm\n",
    "from openmm import app\n",
    "from openmm import unit\n",
    "import sys\n",
    "import numpy as np\n",
    "import pandas as pd\n",
    "import mdtraj as md\n",
    "import json\n",
    "import os \n",
    "\n",
    "from openaicg2.forcefield.aicgmodel import AICG2Model\n",
    "from openaicg2 import utils "
   ]
  },
  {
   "cell_type": "code",
   "execution_count": null,
   "id": "5d5b8855-58fd-4174-bab9-0d6c82e1f717",
   "metadata": {},
   "outputs": [],
   "source": [
    "T = 300\n",
    "tot_simu_steps = 5000000\n",
    "report_period = 1000\n",
    "friction = 1\n",
    "timestep = 20\n",
    "\n",
    "pdb = md.load('../input/sh3_clementigo.pdb')\n",
    "psf = md.load_psf('../input/sh3_clementigo.psf')\n",
    "\n",
    "# complement the bond in topology\n",
    "bonds = psf._bonds\n",
    "top = pdb.topology.to_openmm()\n",
    "rdtop = utils.RedefineTopology()\n",
    "rdtop.redefine_bond(top,bonds)"
   ]
  },
  {
   "cell_type": "code",
   "execution_count": null,
   "id": "c7dd7546-02e9-4f2b-a2d7-ea4356fd3664",
   "metadata": {},
   "outputs": [],
   "source": [
    "model = AICG2Model()\n",
    "model.create_system(top,use_pbc=True,\n",
    "                    box_a=100, box_b=100, box_c=100,\n",
    "                    nonbondedMethod=app.CutoffPeriodic,\n",
    "                    remove_cmmotion=False)"
   ]
  },
  {
   "cell_type": "code",
   "execution_count": null,
   "id": "e14a8c81-d45d-4ae5-92c9-1d1e8b5d8f10",
   "metadata": {},
   "outputs": [],
   "source": [
    "# append native information to model\n",
    "model.append_ff_params(ParserNinfo)\n",
    "np.save('../output/native_contact.npy',model.protein_intra_contact[['a1','a2','sigma']].to_numpy())\n",
    "# get exclusion for nonbonded interaction\n",
    "model.get_exclusion(exclude_nat_con=True)\n",
    "#print(len(model.extraexclusions))\n",
    "# add force to system\n",
    "model.add_protein_bond(force_group=0)\n",
    "model.add_protein_harmonic_angle(force_group=1)\n",
    "model.add_protein_native_dihedral(force_group=2)\n",
    "model.add_protein_native_pair(force_group=3)\n",
    "model.add_excluded(force_group=4)"
   ]
  },
  {
   "cell_type": "code",
   "execution_count": null,
   "id": "9417f73a-f0a5-43dc-8e8a-f32ef6658b81",
   "metadata": {},
   "outputs": [],
   "source": [
    "# create a simulation\n",
    "integrator = mm.LangevinIntegrator(T*unit.kelvin,friction/unit.picosecond,timestep*unit.femtosecond)\n",
    "init_coord = pdb.xyz[0,:,:] * unit.nanometer\n",
    "model.set_simulation(integrator, platform_name='CPU',init_coord=init_coord)\n",
    "model.move_COM_to_box_center(use_pbc=False)\n",
    "model.simulation.context.setVelocitiesToTemperature(T*unit.kelvin)\n",
    "model.simulation.minimizeEnergy()\n",
    "model.add_reporters(tot_simu_steps, report_period, \n",
    "                    output_traj_name='../output/sh3_clementigo',report_traj_format='dcd'\n",
    "                    ,report_traj=True,report_state_log=True)\n",
    "print('Running simulation')\n",
    "model.simulation.step(tot_simu_steps)"
   ]
  }
 ],
 "metadata": {
  "kernelspec": {
   "display_name": "Python 3 (ipykernel)",
   "language": "python",
   "name": "python3"
  },
  "language_info": {
   "codemirror_mode": {
    "name": "ipython",
    "version": 3
   },
   "file_extension": ".py",
   "mimetype": "text/x-python",
   "name": "python",
   "nbconvert_exporter": "python",
   "pygments_lexer": "ipython3",
   "version": "3.12.2"
  }
 },
 "nbformat": 4,
 "nbformat_minor": 5
}
