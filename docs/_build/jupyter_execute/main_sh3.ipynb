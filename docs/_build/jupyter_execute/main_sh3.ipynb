{
 "cells": [
  {
   "cell_type": "markdown",
   "id": "43f71906-1131-43ce-a082-89252eae305a",
   "metadata": {},
   "source": [
    "# Example 1. protein sh3 based on one bead model"
   ]
  },
  {
   "cell_type": "markdown",
   "id": "12b624bd-bf6a-46d1-bf06-bf7cb8eb44ad",
   "metadata": {},
   "source": [
    "To use this example on your local computer, you need to clone or download the folder example from the GitHub repository of openaicg2."
   ]
  },
  {
   "cell_type": "code",
   "execution_count": null,
   "id": "c3c4fdc1-8e6d-488e-a912-45fa9bd885ae",
   "metadata": {},
   "outputs": [],
   "source": [
    "# import required packages\n",
    "import openmm as mm\n",
    "from openmm import app\n",
    "from openmm import unit\n",
    "import numpy as np\n",
    "import pandas as pd\n",
    "import mdtraj as md\n",
    "from openaicg2.forcefield.aicgmodel import AICG2Model\n",
    "from openaicg2 import utils"
   ]
  },
  {
   "cell_type": "markdown",
   "id": "8747b0e9-eab5-4ee7-9ea8-c3a8b54bd5e4",
   "metadata": {},
   "source": [
    "Firstly, initialize the topology from the PDB and PSF files (if the PDB file includes the CONNECT section, you do not need to load the PSF to complete the topology in the PDB). Use the ParserNinfo from utils to parse the native information file to obtain the force field parameters, and store them in the ParserNinfo class variable."
   ]
  },
  {
   "cell_type": "code",
   "execution_count": 2,
   "id": "5d5b8855-58fd-4174-bab9-0d6c82e1f717",
   "metadata": {},
   "outputs": [],
   "source": [
    "# Initialize\n",
    "T = 300\n",
    "tot_simu_steps = 5\n",
    "report_period = 1000\n",
    "friction = 1\n",
    "timestep = 20\n",
    "\n",
    "# load pdb and psf files\n",
    "pdb = md.load('../input/sh3_clementigo.pdb')\n",
    "psf = md.load_psf('../input/sh3_clementigo.psf')\n",
    "\n",
    "# complement the bond in topology\n",
    "bonds = psf._bonds\n",
    "top = pdb.topology.to_openmm()\n",
    "rdtop = utils.RedefineTopology()\n",
    "rdtop.redefine_bond(top,bonds)\n",
    "\n",
    "# load native information\n",
    "ParserNinfo=utils.ParserNinfo()\n",
    "ParserNinfo.get_ninfo('../input/sh3_clementigo.ninfo')"
   ]
  },
  {
   "cell_type": "markdown",
   "id": "2adc469d-2fb6-4f2c-84fa-71470d3974be",
   "metadata": {},
   "source": [
    "After initializing the topology and native information file, create an AICG model using the **AICG2Model** class, and then create an OpenMM system based on the model. The specific parameters include the initialized **top**, **use_pbc** to control whether nonbonded interactions are used, and **nonbondedMethod** to set the properties of nonbonded interactions, including whether they are truncated and whether periodic boundary conditions are used."
   ]
  },
  {
   "cell_type": "code",
   "execution_count": 3,
   "id": "c7dd7546-02e9-4f2b-a2d7-ea4356fd3664",
   "metadata": {},
   "outputs": [],
   "source": [
    "model = AICG2Model()\n",
    "model.create_system(top,use_pbc=True,\n",
    "                    box_a=100, box_b=100, box_c=100,\n",
    "                    nonbondedMethod=app.CutoffPeriodic,\n",
    "                    remove_cmmotion=False)"
   ]
  },
  {
   "cell_type": "markdown",
   "id": "58a6acd6-df06-4f50-a6a3-4ffc99065850",
   "metadata": {},
   "source": [
    "After creating the system, we use the **append_ff_params** function to input the parsed force field parameters from ParserNinfo. For non-bonded interaction calculations, besides excluding atom pairs with residue indices $|I-J| \\le 2$, native contacts are also excluded, controlled by the `exclude_nat_con` parameter of the **get_exclusion** function. Then, add the various forces in sequence. It is important to assign a different force group to each force for easier subsequent force field analysis."
   ]
  },
  {
   "cell_type": "code",
   "execution_count": 4,
   "id": "e14a8c81-d45d-4ae5-92c9-1d1e8b5d8f10",
   "metadata": {},
   "outputs": [
    {
     "name": "stdout",
     "output_type": "stream",
     "text": [
      "get_exclusion\n",
      "Add protein bonds.\n",
      "Add protein angles.\n",
      "Add protein native dihedral angle.\n",
      "Add protien intra native contact\n",
      "Add excluded force\n"
     ]
    }
   ],
   "source": [
    "# append native information to model\n",
    "model.append_ff_params(ParserNinfo)\n",
    "np.save('../output/native_contact.npy',model.protein_intra_contact[['a1','a2','sigma']].to_numpy())\n",
    "# get exclusion for nonbonded interaction\n",
    "model.get_exclusion(exclude_nat_con=True)\n",
    "# add force to system\n",
    "model.add_protein_bond(force_group=0)\n",
    "model.add_protein_harmonic_angle(force_group=1)\n",
    "model.add_protein_native_dihedral(force_group=2)\n",
    "model.add_protein_native_pair(force_group=3)\n",
    "model.add_excluded(force_group=4)"
   ]
  },
  {
   "cell_type": "markdown",
   "id": "bb608181-293a-417c-9a88-018f03dd3006",
   "metadata": {},
   "source": [
    "Use OpenMM to create a Langevin integrator, then select the computing platform, such as CPU or CUDA, and build the OpenMM simulation."
   ]
  },
  {
   "cell_type": "code",
   "execution_count": null,
   "id": "58476c66-f754-43f2-860f-ce3e72338f06",
   "metadata": {},
   "outputs": [],
   "source": [
    "# create a integrator\n",
    "integrator = mm.LangevinIntegrator(T*unit.kelvin,friction/unit.picosecond,timestep*unit.femtosecond)\n",
    "init_coord = pdb.xyz[0,:,:] * unit.nanometer\n",
    "# create a simulation\n",
    "model.set_simulation(integrator, platform_name='CPU',init_coord=init_coord)\n",
    "model.move_COM_to_box_center(use_pbc=False)\n",
    "model.simulation.context.setVelocitiesToTemperature(T*unit.kelvin)\n",
    "model.simulation.minimizeEnergy()"
   ]
  },
  {
   "cell_type": "markdown",
   "id": "5d80d0b0-9357-40eb-b012-032a9061df44",
   "metadata": {},
   "source": [
    "Call the `add_reporters` function inherited to `simulationsystem` to set the input and output. `tot_simu_steps` specifies the total number of simulation steps, `report_period` controls the interval at which information is recorded, `output_traj_name` sets the output file path and name, `report_traj_format` sets the output trajectory format, with options of \"dcd\" and \"xtc\". `report_traj` and `report_state_log` respectively set whether to output the trajectory file and the log file. Finally, run the simulation."
   ]
  },
  {
   "cell_type": "code",
   "execution_count": 5,
   "id": "9417f73a-f0a5-43dc-8e8a-f32ef6658b81",
   "metadata": {},
   "outputs": [
    {
     "name": "stdout",
     "output_type": "stream",
     "text": [
      "Use platform: CPU\n",
      "Move center of mass (COM) to box center.\n",
      "Running simulation\n"
     ]
    }
   ],
   "source": [
    "\n",
    "model.add_reporters(tot_simu_steps, report_period, \n",
    "                    output_traj_name='../output/sh3_clementigo',report_traj_format='dcd'\n",
    "                    ,report_traj=True,report_state_log=True)\n",
    "print('Running simulation')\n",
    "model.simulation.step(tot_simu_steps)"
   ]
  },
  {
   "cell_type": "code",
   "execution_count": null,
   "id": "c88d1c85-3011-48de-9496-9d8195fd6700",
   "metadata": {},
   "outputs": [],
   "source": []
  }
 ],
 "metadata": {
  "kernelspec": {
   "display_name": "Python 3 (ipykernel)",
   "language": "python",
   "name": "python3"
  },
  "language_info": {
   "codemirror_mode": {
    "name": "ipython",
    "version": 3
   },
   "file_extension": ".py",
   "mimetype": "text/x-python",
   "name": "python",
   "nbconvert_exporter": "python",
   "pygments_lexer": "ipython3",
   "version": "3.12.2"
  }
 },
 "nbformat": 4,
 "nbformat_minor": 5
}