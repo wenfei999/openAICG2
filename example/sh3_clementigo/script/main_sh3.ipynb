{
 "cells": [
  {
   "cell_type": "markdown",
   "id": "43f71906-1131-43ce-a082-89252eae305a",
   "metadata": {},
   "source": [
    "# Example 1. Compute the transition temperatrue of sh3 based on one bead model"
   ]
  },
  {
   "cell_type": "markdown",
   "id": "12b624bd-bf6a-46d1-bf06-bf7cb8eb44ad",
   "metadata": {},
   "source": [
    "这个例子将展示如何使用openaicg创建一个珠子的粗粒化模型来研究sh3的转变温度$T_{f}$。为了使用该例子在你的本地电脑，你需要从github openaicg2的仓库里将example克隆或者下载到本地。"
   ]
  },
  {
   "cell_type": "code",
   "execution_count": 1,
   "id": "c3c4fdc1-8e6d-488e-a912-45fa9bd885ae",
   "metadata": {},
   "outputs": [],
   "source": [
    "# import required packages\n",
    "import openmm as mm\n",
    "from openmm import app\n",
    "from openmm import unit\n",
    "import numpy as np\n",
    "import pandas as pd\n",
    "import mdtraj as md\n",
    "from openaicg2.forcefield.aicgmodel import AICG2Model\n",
    "from openaicg2 import utils"
   ]
  },
  {
   "cell_type": "markdown",
   "id": "8747b0e9-eab5-4ee7-9ea8-c3a8b54bd5e4",
   "metadata": {},
   "source": [
    "首先是从pdb文件和psf文件初始化得到topology变量(如果pdb中包括CONNECT部分，就不需要加载psf来完善pdb中topology). 使用utils里的ParserNinfo解析天然信息文件得到力场参数，并存储在ParserNinfo类变量里。"
   ]
  },
  {
   "cell_type": "code",
   "execution_count": 7,
   "id": "5d5b8855-58fd-4174-bab9-0d6c82e1f717",
   "metadata": {},
   "outputs": [],
   "source": [
    "# Initialize\n",
    "T = 300\n",
    "tot_simu_steps = 5000\n",
    "report_period = 1000\n",
    "friction = 1\n",
    "timestep = 20\n",
    "\n",
    "# load pdb and psf files\n",
    "pdb = md.load('../input/sh3_clementigo.pdb')\n",
    "psf = md.load_psf('../input/sh3_clementigo.psf')\n",
    "\n",
    "# complement the bond in topology\n",
    "bonds = psf._bonds\n",
    "top = pdb.topology.to_openmm()\n",
    "rdtop = utils.RedefineTopology()\n",
    "rdtop.redefine_bond(top,bonds)\n",
    "\n",
    "# load native information\n",
    "ParserNinfo=utils.ParserNinfo()\n",
    "ParserNinfo.get_ninfo('../input/sh3_clementigo.ninfo')"
   ]
  },
  {
   "cell_type": "markdown",
   "id": "2adc469d-2fb6-4f2c-84fa-71470d3974be",
   "metadata": {},
   "source": [
    "初始化完成后，利用**AICG2Model**类创建一个AICG模型，然后基于模型创建OpenMM的system。具体参数有初始化得到的top, \n",
    "use_pbc=True control whether use nonbonded。nonbondedMethod设置nonbonded的性质包括是否截断以及是否使用\n",
    "周期性边界条件。"
   ]
  },
  {
   "cell_type": "code",
   "execution_count": 3,
   "id": "c7dd7546-02e9-4f2b-a2d7-ea4356fd3664",
   "metadata": {},
   "outputs": [],
   "source": [
    "model = AICG2Model()\n",
    "model.create_system(top,use_pbc=True,\n",
    "                    box_a=100, box_b=100, box_c=100,\n",
    "                    nonbondedMethod=app.CutoffPeriodic,\n",
    "                    remove_cmmotion=False)"
   ]
  },
  {
   "cell_type": "markdown",
   "id": "58a6acd6-df06-4f50-a6a3-4ffc99065850",
   "metadata": {},
   "source": [
    "创建system后，我们利用函数**append_ff_params**输入解析好的力场参数ParserNinfo。对于非键力的计算，除了排除残基索引$|I-J| \\le 2$的原子对，\n",
    "天然接触对也会被排除，由**get_exclusion**函数的exclude_nat_con控制。然后，依次加入各种力。这里需要注意的是最好给每个力设置一个不同的force group,\n",
    "方便后续可能的力场分析。"
   ]
  },
  {
   "cell_type": "code",
   "execution_count": 4,
   "id": "e14a8c81-d45d-4ae5-92c9-1d1e8b5d8f10",
   "metadata": {},
   "outputs": [
    {
     "name": "stdout",
     "output_type": "stream",
     "text": [
      "get_exclusion\n",
      "Add protein bonds.\n",
      "Add protein angles.\n",
      "Add protein native dihedral angle.\n",
      "Add protien intra native contact\n",
      "Add excluded force\n"
     ]
    }
   ],
   "source": [
    "# append native information to model\n",
    "model.append_ff_params(ParserNinfo)\n",
    "np.save('../output/native_contact.npy',model.protein_intra_contact[['a1','a2','sigma']].to_numpy())\n",
    "# get exclusion for nonbonded interaction\n",
    "model.get_exclusion(exclude_nat_con=True)\n",
    "# add force to system\n",
    "model.add_protein_bond(force_group=0)\n",
    "model.add_protein_harmonic_angle(force_group=1)\n",
    "model.add_protein_native_dihedral(force_group=2)\n",
    "model.add_protein_native_pair(force_group=3)\n",
    "model.add_excluded(force_group=4)"
   ]
  },
  {
   "cell_type": "markdown",
   "id": "bb608181-293a-417c-9a88-018f03dd3006",
   "metadata": {},
   "source": [
    "利用openMM创建朗之万积分器，然后选定计算平台，例如CPU，构建openMM的simulation变量。"
   ]
  },
  {
   "cell_type": "code",
   "execution_count": 5,
   "id": "58476c66-f754-43f2-860f-ce3e72338f06",
   "metadata": {},
   "outputs": [
    {
     "name": "stdout",
     "output_type": "stream",
     "text": [
      "Use platform: CPU\n",
      "Move center of mass (COM) to box center.\n"
     ]
    }
   ],
   "source": [
    "# create a integrator\n",
    "integrator = mm.LangevinIntegrator(T*unit.kelvin,friction/unit.picosecond,timestep*unit.femtosecond)\n",
    "init_coord = pdb.xyz[0,:,:] * unit.nanometer\n",
    "# create a simulation\n",
    "model.set_simulation(integrator, platform_name='CPU',init_coord=init_coord)\n",
    "model.move_COM_to_box_center(use_pbc=False)\n",
    "model.simulation.context.setVelocitiesToTemperature(T*unit.kelvin)\n",
    "model.simulation.minimizeEnergy()"
   ]
  },
  {
   "cell_type": "markdown",
   "id": "5d80d0b0-9357-40eb-b012-032a9061df44",
   "metadata": {},
   "source": [
    "调用模型继承至simulationsystem的add_reporters函数设置输入输出，tot_simu_steps指模拟的总步长，report_period控制间隔多少记录一次信息，ouput_traj_name设置输出文件路径和名字，report_traj_format设置输出轨迹格式，可选格式有\"dcd\"和\"xtc\"，report_traj和report_state_log分别设置是否输出轨迹文件和日志文件。最后，运行模拟。"
   ]
  },
  {
   "cell_type": "code",
   "execution_count": 8,
   "id": "9417f73a-f0a5-43dc-8e8a-f32ef6658b81",
   "metadata": {},
   "outputs": [
    {
     "name": "stdout",
     "output_type": "stream",
     "text": [
      "Running simulation\n"
     ]
    }
   ],
   "source": [
    "\n",
    "model.add_reporters(tot_simu_steps, report_period, \n",
    "                    output_traj_name='../output/sh3_clementigo',report_traj_format='dcd'\n",
    "                    ,report_traj=True,report_state_log=True)\n",
    "print('Running simulation')\n",
    "model.simulation.step(tot_simu_steps)"
   ]
  },
  {
   "cell_type": "code",
   "execution_count": null,
   "id": "c88d1c85-3011-48de-9496-9d8195fd6700",
   "metadata": {},
   "outputs": [],
   "source": []
  }
 ],
 "metadata": {
  "kernelspec": {
   "display_name": "Python 3 (ipykernel)",
   "language": "python",
   "name": "python3"
  },
  "language_info": {
   "codemirror_mode": {
    "name": "ipython",
    "version": 3
   },
   "file_extension": ".py",
   "mimetype": "text/x-python",
   "name": "python",
   "nbconvert_exporter": "python",
   "pygments_lexer": "ipython3",
   "version": "3.12.2"
  }
 },
 "nbformat": 4,
 "nbformat_minor": 5
}
