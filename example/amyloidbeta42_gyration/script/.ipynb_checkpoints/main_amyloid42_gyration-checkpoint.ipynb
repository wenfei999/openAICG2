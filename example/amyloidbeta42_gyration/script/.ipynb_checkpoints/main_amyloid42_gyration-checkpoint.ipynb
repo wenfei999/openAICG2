{
 "cells": [
  {
   "cell_type": "markdown",
   "id": "92eb0abb-b2af-4f1d-833a-ae2ce6c1fb99",
   "metadata": {},
   "source": [
    "# 模拟Amyloid $\\beta 42$单体\n",
    "\n",
    "## 设置模拟\n",
    "这个例子将介绍如何使用openaicg2的默认力场AICG2+创建两个bead的粗粒化模型。我们选择淀粉样蛋白$A \\beta42$单体作为研究对象。淀粉样蛋白$A \\beta42$的单体是一种IDP(intrinsic disorder protein),其大部分结构都是无序的。然而，当它的单体浓度超过临界浓度时，淀粉样蛋白$A \\beta42$就会发生聚集沉淀，形成相对规整的结构。下面我们将利用openaicg2跑一段langevin动力学来计算它的回转半田径。"
   ]
  },
  {
   "cell_type": "markdown",
   "id": "7ca662d0-450f-4e30-846e-d181a5c74913",
   "metadata": {},
   "source": [
    "加载所需要的python包:"
   ]
  },
  {
   "cell_type": "code",
   "execution_count": 1,
   "id": "d34fa4b1-0930-4dfc-89f4-f0967ccb6fed",
   "metadata": {},
   "outputs": [],
   "source": [
    "# add required packages\n",
    "import openmm as mm\n",
    "from openmm import app\n",
    "from openmm import unit\n",
    "import mdtraj as md\n",
    "import json\n",
    "\n",
    "from openaicg2.forcefield.aicgmodel import AICG2Model\n",
    "from openaicg2 import utils "
   ]
  },
  {
   "cell_type": "markdown",
   "id": "7fbd46be-96b2-4591-b559-3093e48b578d",
   "metadata": {},
   "source": [
    "加载模拟所需要的参数，包括有温度，摩差系数，时间步长，总模拟时间总步数，记录轨迹周期，输出文件名等。"
   ]
  },
  {
   "cell_type": "code",
   "execution_count": 2,
   "id": "0d4b8bdc-a428-4707-bd09-bcd254367490",
   "metadata": {},
   "outputs": [],
   "source": [
    "# load simulation parameters from json file\n",
    "simu_params_path = '../input/simulationparams.json'\n",
    "configure_params = json.load(open(simu_params_path,'r'))\n",
    "\n",
    "T = configure_params['Temperature'] \n",
    "friction = configure_params['friction']\n",
    "timestep = configure_params['timestep']\n",
    "tot_simu_steps = configure_params['total_mdsteps']\n",
    "report_period = configure_params['report_period']\n",
    "output_file = configure_params['output_file_name']\n",
    "platform_type = configure_params['platform_type']\n",
    "initial_pdb_path = configure_params['initial_pdb']\n",
    "monomer_psf_path = configure_params['monomer_psf']\n",
    "box = configure_params['box_vector']\n",
    "native_info_path = configure_params['native_information']\n",
    "lambdakh_scale = configure_params['lambdakh_scale']\n",
    "cutoff_kh = configure_params['cutoff_kh']"
   ]
  },
  {
   "cell_type": "markdown",
   "id": "1ef2652a-db52-49e4-9d77-a7aff5070ce6",
   "metadata": {},
   "source": [
    "从pdb文件和psf文件初始化得到topology变量(如果pdb中包括CONNECT部分，就不需要加载psf来完善pdb中topology)。"
   ]
  },
  {
   "cell_type": "code",
   "execution_count": 3,
   "id": "795970c6-2065-4873-882a-a90a16db9fb9",
   "metadata": {},
   "outputs": [],
   "source": [
    "# load pdb and psf\n",
    "pdb = md.load(initial_pdb_path) \n",
    "psf = md.load_psf(monomer_psf_path)\n",
    "top = pdb.topology.to_openmm()\n",
    "top._bonds = []\n",
    "bonds = psf._bonds\n",
    "# Refine the bond in topology\n",
    "redefine_top = utils.RedefineTopology()\n",
    "redefine_top.redefine_bond(top,bonds)"
   ]
  },
  {
   "cell_type": "markdown",
   "id": "52a5f4e5-9c02-4d95-a69a-977483d8dad4",
   "metadata": {},
   "source": [
    "使用utils里的ParserNinfo解析天然信息文件得到力场参数，并存储在ParserNinfo类变量里。"
   ]
  },
  {
   "cell_type": "code",
   "execution_count": 4,
   "id": "d8aed4d7-f15f-4442-8622-d6e29736d523",
   "metadata": {},
   "outputs": [],
   "source": [
    "# load parameter in native information file\n",
    "ParserNinfo=utils.ParserNinfo()\n",
    "ParserNinfo.get_ninfo(native_info_path)"
   ]
  },
  {
   "cell_type": "markdown",
   "id": "9bc2709c-b577-4821-9444-02424c87cc1b",
   "metadata": {},
   "source": [
    "初始化完成后，利用AICG2Model类创建一个AICG模型，然后基于模型创建OpenMM的system。具体参数有初始化得到的top, use_pbc=True control whether use nonbonded。nonbondedMethod设置nonbonded的性质包括是否截断以及是否使用 周期性边界条件。创建system后，我们利用函数append_ff_params输入解析好的力场参数ParserNinfo，然后调用**add_all_default_ener_function** 添加默认的所有需要的能量函数。其中参数oriented_Hbond设置为False表示不添加取向依赖的氢键。"
   ]
  },
  {
   "cell_type": "code",
   "execution_count": 5,
   "id": "b10adb74-bbe5-40b1-977b-5aeb956208ab",
   "metadata": {},
   "outputs": [
    {
     "name": "stdout",
     "output_type": "stream",
     "text": [
      "Add protein bonds.\n",
      "Add protein angles.\n",
      "Add protien aicg13 angles.\n",
      "Add flexible local potential of angle of backbone.\n",
      "Add protein native dihedral angle.\n",
      "Add protein aicg dihedral.\n",
      "Add flexible local potential of dihedral of backbone\n",
      "Add protien intra native contact\n",
      "get_exclusion\n",
      "Add a kim hummer and excluded combined potential energy function\n",
      "Add debye huckel potential\n"
     ]
    }
   ],
   "source": [
    "# create model\n",
    "model = AICG2Model()\n",
    "model.create_system(top,use_pbc=True,\n",
    "                    box_a=box['x'], box_b=box['y'], box_c=box['z'],\n",
    "                    nonbondedMethod=app.CutoffPeriodic,\n",
    "                    remove_cmmotion=False)\n",
    "# input native information\n",
    "model.append_ff_params(ParserNinfo)\n",
    "# add all default energy function\n",
    "model.add_all_default_ener_function(oriented_Hbond=False,cutoffkh=cutoff_kh,\n",
    "                                    kh_epsilon_scale=lambdakh_scale,temperature=T)"
   ]
  },
  {
   "cell_type": "code",
   "execution_count": null,
   "id": "97520849-dcf5-4b87-8e57-b3c48020b366",
   "metadata": {},
   "outputs": [],
   "source": [
    "利用openMM创建朗之万积分器, 然后构建simulation."
   ]
  },
  {
   "cell_type": "code",
   "execution_count": 6,
   "id": "17a365be-9e47-47a9-85ac-fe7284eb0e02",
   "metadata": {},
   "outputs": [
    {
     "name": "stdout",
     "output_type": "stream",
     "text": [
      "Use platform: CUDA\n",
      "Use precision: mixed\n",
      "Move center of mass (COM) to box center.\n"
     ]
    }
   ],
   "source": [
    "# create simulation\n",
    "integrator = mm.LangevinMiddleIntegrator(T*unit.kelvin,friction/unit.picosecond,timestep*unit.femtosecond)\n",
    "init_coord = pdb.xyz[0,:,:] * unit.nanometer\n",
    "model.set_simulation(integrator, platform_name=platform_type,properties={'Precision': 'mixed'},init_coord=init_coord)\n",
    "model.move_COM_to_box_center(use_pbc=False)\n",
    "model.simulation.context.setVelocitiesToTemperature(T*unit.kelvin)\n",
    "model.simulation.minimizeEnergy()\n",
    "# reporter trajectory and log about simulation\n",
    "model.add_reporters(tot_simu_steps, report_period, \n",
    "                    output_traj_name='../output/%s'%(output_file),report_traj_format='dcd'\n",
    "                    ,report_traj=True,report_state_log=True)\n",
    "\n"
   ]
  },
  {
   "cell_type": "markdown",
   "id": "d57258c3-062b-4103-b988-c5f779177eef",
   "metadata": {},
   "source": [
    "运行模拟。如果模拟中断，模型会自动将当前系统的力场保存在system_xxx.xml,模拟时刻的状态信息(包括有位置，速度等信息)保存在state_xxx.xml."
   ]
  },
  {
   "cell_type": "code",
   "execution_count": 7,
   "id": "1426b89f-d535-43b0-b0d4-4ab1fca0e5be",
   "metadata": {},
   "outputs": [
    {
     "name": "stdout",
     "output_type": "stream",
     "text": [
      "Running simulation!!!\n"
     ]
    }
   ],
   "source": [
    "print('Running simulation!!!') \n",
    "try:\n",
    "    model.simulation.step(tot_simu_steps)\n",
    "except:\n",
    "    print('simulation interruption')\n",
    "    model.save_system('../output/system_%s.xml'%(output_file))\n",
    "    model.save_state('../output/state_%s.xml'%(output_file))"
   ]
  },
  {
   "cell_type": "markdown",
   "id": "cd253f49-92ee-4abd-990f-4019bd4eebe1",
   "metadata": {},
   "source": [
    "## 计算回转半径$R_{g}$\n",
    "回转半径的标准计算公式如下：\n",
    "\n",
    "$\n",
    "R_g = \\sqrt{\\frac{1}{N}<\\sum_{i=1}^{N}(r_i - r_{CM})>}\n",
    "$\n",
    "\n",
    "在方程中，$N$指的是粒子数目，$r_{i}$是粒子$i$的坐标，$r_{CM}$是质心坐标，而<...>指系宗平均。"
   ]
  },
  {
   "cell_type": "code",
   "execution_count": 8,
   "id": "1dfc6ca6-b590-4f1c-9925-55accdb091cd",
   "metadata": {},
   "outputs": [
    {
     "name": "stdout",
     "output_type": "stream",
     "text": [
      "radius of gyration: 15.914187405397975 angstrom\n"
     ]
    }
   ],
   "source": [
    "import numpy as np\n",
    "import matplotlib.pyplot as plt\n",
    "\n",
    "_A_to_nm = 0.1 \n",
    "lambdascale = 1.13\n",
    "traj = md.load('../output/monomer.dcd',top='../output/monomer.pdb')\n",
    "rg = md.compute_rg(traj,masses=None)\n",
    "Rg = np.mean(rg)/_A_to_nm\n",
    "print('radius of gyration:',Rg,'angstrom')"
   ]
  },
  {
   "cell_type": "code",
   "execution_count": null,
   "id": "5e08e22d-75d4-4743-8add-023f56a715df",
   "metadata": {},
   "outputs": [],
   "source": []
  }
 ],
 "metadata": {
  "kernelspec": {
   "display_name": "Python 3 (ipykernel)",
   "language": "python",
   "name": "python3"
  },
  "language_info": {
   "codemirror_mode": {
    "name": "ipython",
    "version": 3
   },
   "file_extension": ".py",
   "mimetype": "text/x-python",
   "name": "python",
   "nbconvert_exporter": "python",
   "pygments_lexer": "ipython3",
   "version": "3.12.2"
  }
 },
 "nbformat": 4,
 "nbformat_minor": 5
}
